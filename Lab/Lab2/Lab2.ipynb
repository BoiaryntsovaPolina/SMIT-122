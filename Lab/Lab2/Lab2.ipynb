{
  "cells": [
    {
      "cell_type": "markdown",
      "metadata": {},
      "source": [
        "# Математична статистика. Лабораторна робота № 2. Створення електронного\n",
        "\n",
        "документу\n",
        "\n",
        "Бояринцова П. С.  \n",
        "2025-11-01\n",
        "\n",
        "# Інструкція\n",
        "\n",
        "Цей R Notebook демонструє:\n",
        "\n",
        "-   побудову графіка функції $y(x)=b_0 + b_1 x + b_2 x^2$ (базова\n",
        "    графіка та ggplot2),\n",
        "-   експорт/імпорт даних пакетами rio,\n",
        "-   відображення таблиць (knitr::kable, DT::datatable).\n",
        "\n",
        "## 2.1. Параметри та побудова графіка (базова графіка)"
      ],
      "id": "3aad0206-1de5-4dc8-b378-7ed01332874a"
    },
    {
      "cell_type": "code",
      "execution_count": null,
      "metadata": {},
      "outputs": [
        {
          "output_type": "display_data",
          "metadata": {},
          "data": {
            "image/png": "[encoded data removed]"
          }
        }
      ],
      "source": [
        "# Параметри функції\n",
        "\n",
        "b0 <- 2\n",
        "b1 <- 3\n",
        "b2 <- 1.57\n",
        "\n",
        "# Межі області визначення\n",
        "\n",
        "x1 <- -1\n",
        "x2 <- 1\n",
        "\n",
        "# Область та значення\n",
        "\n",
        "x <- seq(x1, x2, by = 0.1)\n",
        "y <- b0 + b1 * x + b2 * x^2\n",
        "\n",
        "# Базова графіка\n",
        "\n",
        "plot(x, y,\n",
        "  type = \"l\",\n",
        "  col = \"red\",\n",
        "  main = \"Графік функції y(x) = b0 + b1*x + b2*x^2 (базова графіка)\",\n",
        "  xlab = \"x\",\n",
        "  ylab = \"y\")\n",
        "points(x, y, col = \"blue\")"
      ],
      "id": "308c5ae5-27c7-4a5d-99a5-5a04325dee4d"
    },
    {
      "cell_type": "markdown",
      "metadata": {},
      "source": [
        "## 2.2. Збереження даних на диск і імпорт (пакет rio)"
      ],
      "id": "44ce1419-3309-4882-9c81-f7f9f9332fae"
    },
    {
      "cell_type": "code",
      "execution_count": null,
      "metadata": {},
      "outputs": [
        {
          "output_type": "stream",
          "name": "stderr",
          "text": [
            "\n",
            "Присоединяю пакет: 'dplyr'"
          ]
        },
        {
          "output_type": "stream",
          "name": "stderr",
          "text": [
            "Следующие объекты скрыты от 'package:stats':\n",
            "\n",
            "    filter, lag"
          ]
        },
        {
          "output_type": "stream",
          "name": "stderr",
          "text": [
            "Следующие объекты скрыты от 'package:base':\n",
            "\n",
            "    intersect, setdiff, setequal, union"
          ]
        },
        {
          "output_type": "stream",
          "name": "stdout",
          "text": [
            "[[1]]\n",
            "[1] \"rio\"       \"stats\"     \"graphics\"  \"grDevices\" \"utils\"     \"datasets\" \n",
            "[7] \"methods\"   \"base\"     \n",
            "\n",
            "[[2]]\n",
            "[1] \"dplyr\"     \"rio\"       \"stats\"     \"graphics\"  \"grDevices\" \"utils\"    \n",
            "[7] \"datasets\"  \"methods\"   \"base\"     \n",
            "\n",
            "[[3]]\n",
            " [1] \"tidyr\"     \"dplyr\"     \"rio\"       \"stats\"     \"graphics\"  \"grDevices\"\n",
            " [7] \"utils\"     \"datasets\"  \"methods\"   \"base\"     \n",
            "\n",
            "[[4]]\n",
            " [1] \"ggplot2\"   \"tidyr\"     \"dplyr\"     \"rio\"       \"stats\"     \"graphics\" \n",
            " [7] \"grDevices\" \"utils\"     \"datasets\"  \"methods\"   \"base\"     "
          ]
        },
        {
          "output_type": "display_data",
          "metadata": {},
          "data": {
            "text/html": [
              "<div class=\"datatables html-widget html-fill-item\" id=\"htmlwidget-dfd8ff9d6fd91ee1b2b3\" style=\"width:100%;height:auto;\"></div>\n",
              "<script type=\"application/json\" data-for=\"htmlwidget-dfd8ff9d6fd91ee1b2b3\">{\"x\":{\"filter\":\"none\",\"vertical\":false,\"data\":[[\"1\",\"2\",\"3\",\"4\",\"5\",\"6\",\"7\",\"8\",\"9\",\"10\",\"11\",\"12\",\"13\",\"14\",\"15\",\"16\",\"17\",\"18\",\"19\",\"20\",\"21\"],[-1,-0.9,-0.8,-0.7,-0.6,-0.5,-0.3999999999999999,-0.2999999999999999,-0.2,-0.09999999999999998,0,0.1000000000000001,0.2000000000000002,0.3,0.4000000000000001,0.5,0.6000000000000001,0.7000000000000002,0.8,0.9000000000000001,1],[0.5700000000000001,0.5716999999999999,0.6047999999999998,0.6693000000000003,0.7652000000000002,0.8925000000000001,1.0512,1.2413,1.4628,1.7157,2,2.3157,2.662800000000001,3.041300000000001,3.4512,3.8925,4.365200000000001,4.869300000000001,5.404800000000001,5.9717,6.57]],\"container\":\"<table class=\\\"display\\\">\\n  <thead>\\n    <tr>\\n      <th> <\\/th>\\n      <th>x<\\/th>\\n      <th>y<\\/th>\\n    <\\/tr>\\n  <\\/thead>\\n<\\/table>\",\"options\":{\"columnDefs\":[{\"className\":\"dt-right\",\"targets\":[1,2]},{\"orderable\":false,\"targets\":0},{\"name\":\" \",\"targets\":0},{\"name\":\"x\",\"targets\":1},{\"name\":\"y\",\"targets\":2}],\"order\":[],\"autoWidth\":false,\"orderClasses\":false}},\"evals\":[],\"jsHooks\":[]}</script>"
            ]
          }
        }
      ],
      "source": [
        "# install.packages(\"rio\") # інсталяція пакету \n",
        "library(rio) # підключення пакету \n",
        "export(df, \"data/data.csv\") \n",
        " \n",
        " packages <- c(\"rio\", \"dplyr\", \"tidyr\", \"ggplot2\") \n",
        " \n",
        "# install.packages(packages) \n",
        " \n",
        " lapply(packages, library, character.only=TRUE) "
      ],
      "id": "a5b171ba-fde7-4789-8080-2dc6c4529db3"
    },
    {
      "cell_type": "markdown",
      "metadata": {},
      "source": [
        "## 2.3.Виконуємо імпорт даних із файлу і візуалізацію у вигляді таблиці."
      ],
      "id": "91f91144-c1b4-4748-968e-8bec167a6200"
    },
    {
      "cell_type": "code",
      "execution_count": null,
      "metadata": {},
      "outputs": [
        {
          "output_type": "display_data",
          "metadata": {},
          "data": {}
        }
      ],
      "source": [
        "dfNew <-  import(\"data/data.csv\") \n",
        " \n",
        "# Таблиця засобами knitr \n",
        "knitr::kable(head(dfNew), \n",
        "             caption = \"_Табл. 1. Фрагмент таблиці даних_\") "
      ],
      "id": "79a59f72-2384-401f-bd84-d5f233912a3d"
    },
    {
      "cell_type": "markdown",
      "metadata": {},
      "source": [
        "**Табл. 2. Параметри функції**\n",
        "\n",
        "| Параметр | Значення |\n",
        "|----------|---------:|\n",
        "| b0       |        2 |\n",
        "| b1       |        3 |\n",
        "| b2       |     1.57 |\n",
        "| x1       |       -1 |\n",
        "| x2       |        1 |\n",
        "\n",
        "# 3.Використання ggplot2 і оператора %\\>% (оптимізований код)\n",
        "\n",
        "## 3.1"
      ],
      "id": "1f65162b-34e5-4101-b667-563dc3a14999"
    },
    {
      "cell_type": "code",
      "execution_count": null,
      "metadata": {},
      "outputs": [
        {
          "output_type": "stream",
          "name": "stderr",
          "text": [
            "Warning: Using `size` aesthetic for lines was deprecated in ggplot2 3.4.0.\n",
            "ℹ Please use `linewidth` instead."
          ]
        },
        {
          "output_type": "display_data",
          "metadata": {},
          "data": {
            "image/png": "[encoded data removed]"
          }
        }
      ],
      "source": [
        "# Встановлення пакетів при першому запуску\n",
        "\n",
        "# install.packages(c(\"ggplot2\", \"dplyr\"))\n",
        "\n",
        "library(dplyr)\n",
        "library(ggplot2)\n",
        "\n",
        "df %>%\n",
        "ggplot(aes(x = x, y = y)) +\n",
        "geom_line(size = 1) +\n",
        "geom_point() +\n",
        "labs(title = \"Графік функції (ggplot2)\",\n",
        "x = \"x\", y = \"y\") +\n",
        "theme_minimal()"
      ],
      "id": "eaaf2b4b-f0b2-40cb-8710-ee5579f9f774"
    },
    {
      "cell_type": "markdown",
      "metadata": {},
      "source": [
        "## 3.2. Результуюча таблиця параметрів\n",
        "\n",
        "Табл. 2. Параметри функції\n",
        "\n",
        "| Параметр | Значення |\n",
        "|----------|---------:|\n",
        "| b0       |        2 |\n",
        "| b1       |        3 |\n",
        "| b2       |     1.57 |\n",
        "| x1       |       -1 |\n",
        "| x2       |        1 |\n",
        "\n",
        "### *Контрольні запитання*\n",
        "\n",
        "#### 1. LaTeX — формула щільності нормального розподілу\n",
        "\n",
        "$f(x;\\mu,\\sigma^2) = \\frac{1}{\\sqrt{2\\pi\\sigma^{2}}}\\exp\\!\\left(-\\frac{(x-\\mu)^2}{2\\sigma^{2}}\\right)$\n",
        "\n",
        "#### 2. Як розв’язати таблиці і графіки в електронний документ з використанням R Markdown і пакету rmarkdown з оглядом на читабельність та грамотність коду?\n",
        "\n",
        "Приклад побудови графіка (чисто, з підписами):"
      ],
      "id": "81900583-66a6-40f3-aa44-0dca6e0d0983"
    },
    {
      "cell_type": "code",
      "execution_count": null,
      "metadata": {},
      "outputs": [
        {
          "output_type": "display_data",
          "metadata": {},
          "data": {
            "image/png": "[encoded data removed]"
          }
        }
      ],
      "source": [
        "df <- data.frame(x = seq(-1,1,0.1))\n",
        "df <- df %>% mutate(y = 2 + 3*x + 1.57*x^2)\n",
        "\n",
        "ggplot(df, aes(x = x, y = y)) +\n",
        "geom_line() +\n",
        "geom_point(size = 1.5) +\n",
        "labs(title = \"Графік y(x) = 2 + 3x + 1.57 x^2\",\n",
        "x = \"x\",\n",
        "y = \"y\") +\n",
        "theme_minimal()"
      ],
      "id": "7630ca1f-fd1a-4d54-bea6-196138a78fb9"
    },
    {
      "cell_type": "markdown",
      "metadata": {},
      "source": [
        "Як робити таблиці читабельними:\n",
        "\n",
        "-   Для простих фрагментів використай knitr::kable();\n",
        "-   Для великих таблиць — DT::datatable() (інтерактивна,\n",
        "    сортування/фільтрація).\n",
        "\n",
        "Поради щодо структури коду:\n",
        "\n",
        "1.  Розбивай код на логічні чанки: підготовка даних → аналіз → вивід\n",
        "    таблиць → побудова графіків.\n",
        "2.  Коментуй нетривіальні кроки (коротко).\n",
        "3.  Використовуй echo=FALSE для чанків, де показ коду не потрібен (залиш\n",
        "    тільки результат).\n",
        "4.  Для великих обчислень застосовуй cache=TRUE в чанку, щоб уникнути\n",
        "    повторних довгих обчислень.\n",
        "5.  Зберігай стилі коду (відступи, однакові назви змінних).\n",
        "\n",
        "#### 3. Як вирішити завдання зі вставленням та форматуванням зображень в електронному документі з використанням R, забезпечуючи читабельність та елегантність коду?\n",
        "\n",
        "Декілька підходів:\n",
        "\n",
        "1.  вставити зовнішній файл з диску;\n",
        "2.  зберегти графік з R і потім вставити;\n",
        "3.  використовувати knitr::include_graphics() .\n",
        "\n",
        "*Приклади*\n",
        "\n",
        "А. Вставити зображення (файл у папці images/)"
      ],
      "id": "ca20eaca-3571-4828-a4b9-ebfe5e3db8b9"
    },
    {
      "cell_type": "code",
      "execution_count": null,
      "metadata": {},
      "outputs": [],
      "source": [
        "# knitr::include_graphics(\"images/my_plot.png\")"
      ],
      "id": "bcffeaf3-aa70-4b39-878e-dc13109f8968"
    },
    {
      "cell_type": "markdown",
      "metadata": {},
      "source": [
        "B. Зберегти ggplot у файл і вставити"
      ],
      "id": "56c7b10f-7a5d-4705-8a4f-5b9496275a8c"
    },
    {
      "cell_type": "code",
      "execution_count": null,
      "metadata": {},
      "outputs": [],
      "source": [
        "# p <- ggplot(df, aes(x,y)) + geom_line()\n",
        "# ggsave(\"images/plot1.png\", p, width = 6, height = 4, dpi = 300)\n",
        "# knitr::include_graphics(\"images/plot1.png\")"
      ],
      "id": "4d086ffe-f669-4731-9de9-5b9b0d07b893"
    },
    {
      "cell_type": "markdown",
      "metadata": {},
      "source": [
        "#### 4. Яку функцію виконує YAML-заголовок у динамічному документі?\n",
        "\n",
        "YAML-заголовок (блок між — на початку .Rmd) — це метадані документа.\n",
        "Основні функції:\n",
        "\n",
        "-   Вказує метадані: title, author, date, output (HTML, PDF, Word,\n",
        "    notebook тощо).\n",
        "-   Налаштовує формат виводу: вибір html_document, html_notebook,\n",
        "    pdf_document, word_document та їх опцій (toc, highlight, theme,\n",
        "    toc_float тощо).\n",
        "-   Додає глобальні інструкції: bibliography, csl (стиль цитування),\n",
        "    header-includes (додає LaTeX/HTML блоки в заголовок), params (для\n",
        "    параметризованих звітів).\n",
        "-   Керує поведінкою knit/pandoc: наприклад, автоматичне включення\n",
        "    таблиці вмісту, плаваючих зображень, форматування коду, шляхів для\n",
        "    ресурсів.\n",
        "-   Впливає на читабельність: коректно налаштований YAML дозволяє\n",
        "    отримати документ із потрібними підписами, форматуванням і без\n",
        "    додаткових ручних кроків."
      ],
      "id": "aa51a997-34c3-48e2-9a03-a74a015839f3"
    }
  ],
  "nbformat": 4,
  "nbformat_minor": 5,
  "metadata": {
    "kernelspec": {
      "display_name": "Python 3",
      "language": "python",
      "name": "python3"
    }
  }
}